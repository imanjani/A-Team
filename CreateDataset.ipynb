{
 "cells": [
  {
   "cell_type": "code",
   "execution_count": 1,
   "metadata": {
    "collapsed": true
   },
   "outputs": [],
   "source": [
    "import matplotlib.pyplot as plt\n",
    "import pandas as pd\n",
    "import numpy as np\n",
    "from sklearn.datasets.samples_generator import make_blobs"
   ]
  },
  {
   "cell_type": "code",
   "execution_count": 4,
   "metadata": {},
   "outputs": [
    {
     "name": "stdout",
     "output_type": "stream",
     "text": [
      "38759\n"
     ]
    }
   ],
   "source": [
    "data = pd.read_csv(\"results.csv\")\n",
    "\n",
    "# data[\"Winner\"] = np.where(data['home_score']>data['away_score'], data['home_team'], data['away_team'])\n",
    "# data[\"Loser\"] = np.where(data['home_score']<data['away_score'], data['home_team'], data['away_team'])\n",
    "something = data[\"date\"].str.split(pat='-', expand=True)\n",
    "data[\"Year\"] = something[0]\n",
    " \n",
    "print(len(data))"
   ]
  },
  {
   "cell_type": "code",
   "execution_count": 3,
   "metadata": {},
   "outputs": [
    {
     "name": "stdout",
     "output_type": "stream",
     "text": [
      "244\n"
     ]
    }
   ],
   "source": [
    "print(len(data['home_team'].unique()))\n",
    "teams = data['home_team'].unique()\n",
    "years = data['Year'].unique()"
   ]
  },
  {
   "cell_type": "code",
   "execution_count": null,
   "metadata": {},
   "outputs": [],
   "source": [
    "new_data = {}\n",
    "new_data[\"Year\"] = []\n",
    "new_data[\"Country\"] = []\n",
    "for team in teams: \n",
    "    for year in years:\n",
    "        new_data[\"Year\"] = np.append(new_data[\"Year\"], year)\n",
    "        new_data[\"Country\"] = np.append(new_data[\"Country\"], team)"
   ]
  },
  {
   "cell_type": "code",
   "execution_count": null,
   "metadata": {
    "collapsed": true
   },
   "outputs": [],
   "source": [
    "new_df = pd.DataFrame(new_data)"
   ]
  },
  {
   "cell_type": "code",
   "execution_count": null,
   "metadata": {},
   "outputs": [],
   "source": [
    "new_df.head()"
   ]
  },
  {
   "cell_type": "code",
   "execution_count": null,
   "metadata": {
    "scrolled": true
   },
   "outputs": [],
   "source": [
    "new_df[\"Wins\"] = 0\n",
    "new_df[\"Losses\"] = 0\n",
    "new_df[\"Draws\"] = 0\n",
    "new_df[\"Points Scored\"] = 0\n",
    "new_df[\"Points Against\"] = 0\n",
    "\n",
    "new_df.head()"
   ]
  },
  {
   "cell_type": "code",
   "execution_count": null,
   "metadata": {},
   "outputs": [],
   "source": [
    "for i, r in new_df.iterrows():\n",
    "    loop_df = data.loc[(data['Year'] == r['Year']) & ((data['home_team'] == r['Country']) | (data['away_team'] == r['Country'])), :]\n",
    "    for index, row in loop_df.iterrows():\n",
    "        if row['home_score'] > row['away_score']:\n",
    "            r[\"Wins\"] += 1\n",
    "        elif row['home_score'] == row['away_score']:\n",
    "            r[\"Draws\"] += 1\n",
    "        else:\n",
    "            r[\"Losses\"] += 1\n",
    "        "
   ]
  },
  {
   "cell_type": "code",
   "execution_count": null,
   "metadata": {},
   "outputs": [],
   "source": [
    "# data.loc[(data['Year'] == '2005') & ((data['home_team'] == 'Scotland') | (data['away_team'] == 'Scotland')), :]"
   ]
  },
  {
   "cell_type": "code",
   "execution_count": null,
   "metadata": {},
   "outputs": [],
   "source": [
    "new_df.to_csv(\"new_dataset.csv\")"
   ]
  },
  {
   "cell_type": "code",
   "execution_count": null,
   "metadata": {
    "collapsed": true
   },
   "outputs": [],
   "source": []
  },
  {
   "cell_type": "code",
   "execution_count": null,
   "metadata": {
    "collapsed": true
   },
   "outputs": [],
   "source": []
  }
 ],
 "metadata": {
  "kernelspec": {
   "display_name": "Python [conda env:PythonData]",
   "language": "python",
   "name": "conda-env-PythonData-py"
  },
  "language_info": {
   "codemirror_mode": {
    "name": "ipython",
    "version": 3
   },
   "file_extension": ".py",
   "mimetype": "text/x-python",
   "name": "python",
   "nbconvert_exporter": "python",
   "pygments_lexer": "ipython3",
   "version": "3.6.3"
  }
 },
 "nbformat": 4,
 "nbformat_minor": 2
}
