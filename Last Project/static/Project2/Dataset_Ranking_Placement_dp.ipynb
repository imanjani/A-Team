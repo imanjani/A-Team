{
 "cells": [
  {
   "cell_type": "markdown",
   "metadata": {},
   "source": [
    "## Dependencies"
   ]
  },
  {
   "cell_type": "code",
   "execution_count": 1,
   "metadata": {
    "collapsed": true
   },
   "outputs": [],
   "source": [
    "%matplotlib inline\n",
    "import pandas as pd\n",
    "import os\n",
    "import matplotlib.pyplot as plt"
   ]
  },
  {
   "cell_type": "markdown",
   "metadata": {},
   "source": [
    "## Preparing the Data Set for Machine Learning"
   ]
  },
  {
   "cell_type": "code",
   "execution_count": 2,
   "metadata": {
    "collapsed": true
   },
   "outputs": [],
   "source": [
    "#Read in CSVs\n",
    "yeardata_df = pd.read_csv('new_dataset_clipped.csv', encoding = \"utf-8\")\n",
    "attributes_df = pd.read_csv('FIFA_attributes.csv', encoding='ISO-8859-1')\n",
    "rank_stand_df = pd.read_csv('World_cup_ranking_placement.csv')"
   ]
  },
  {
   "cell_type": "code",
   "execution_count": 3,
   "metadata": {},
   "outputs": [
    {
     "data": {
      "text/html": [
       "<div>\n",
       "<style>\n",
       "    .dataframe thead tr:only-child th {\n",
       "        text-align: right;\n",
       "    }\n",
       "\n",
       "    .dataframe thead th {\n",
       "        text-align: left;\n",
       "    }\n",
       "\n",
       "    .dataframe tbody tr th {\n",
       "        vertical-align: top;\n",
       "    }\n",
       "</style>\n",
       "<table border=\"1\" class=\"dataframe\">\n",
       "  <thead>\n",
       "    <tr style=\"text-align: right;\">\n",
       "      <th></th>\n",
       "      <th>Unnamed: 0</th>\n",
       "      <th>Country</th>\n",
       "      <th>Year</th>\n",
       "      <th>Wins</th>\n",
       "      <th>Losses</th>\n",
       "      <th>Draws</th>\n",
       "      <th>Points_Scored</th>\n",
       "      <th>Points_Against</th>\n",
       "      <th>Ttl_Games</th>\n",
       "      <th>Win_Percent</th>\n",
       "    </tr>\n",
       "  </thead>\n",
       "  <tbody>\n",
       "    <tr>\n",
       "      <th>0</th>\n",
       "      <td>133</td>\n",
       "      <td>Scotland</td>\n",
       "      <td>2005</td>\n",
       "      <td>2</td>\n",
       "      <td>3</td>\n",
       "      <td>4</td>\n",
       "      <td>11</td>\n",
       "      <td>8</td>\n",
       "      <td>9</td>\n",
       "      <td>0.222222</td>\n",
       "    </tr>\n",
       "    <tr>\n",
       "      <th>1</th>\n",
       "      <td>280</td>\n",
       "      <td>England</td>\n",
       "      <td>2005</td>\n",
       "      <td>7</td>\n",
       "      <td>3</td>\n",
       "      <td>1</td>\n",
       "      <td>19</td>\n",
       "      <td>11</td>\n",
       "      <td>11</td>\n",
       "      <td>0.636364</td>\n",
       "    </tr>\n",
       "  </tbody>\n",
       "</table>\n",
       "</div>"
      ],
      "text/plain": [
       "   Unnamed: 0   Country  Year  Wins  Losses  Draws  Points_Scored  \\\n",
       "0         133  Scotland  2005     2       3      4             11   \n",
       "1         280   England  2005     7       3      1             19   \n",
       "\n",
       "   Points_Against  Ttl_Games  Win_Percent  \n",
       "0               8          9     0.222222  \n",
       "1              11         11     0.636364  "
      ]
     },
     "execution_count": 3,
     "metadata": {},
     "output_type": "execute_result"
    }
   ],
   "source": [
    "#Inspect and modify yeardata_df\n",
    "yeardata_df['Win_Percent'] = yeardata_df['Wins']/yeardata_df['Ttl_Games']\n",
    "yeardata_df.head(2)"
   ]
  },
  {
   "cell_type": "code",
   "execution_count": 4,
   "metadata": {},
   "outputs": [
    {
     "data": {
      "text/html": [
       "<div>\n",
       "<style>\n",
       "    .dataframe thead tr:only-child th {\n",
       "        text-align: right;\n",
       "    }\n",
       "\n",
       "    .dataframe thead th {\n",
       "        text-align: left;\n",
       "    }\n",
       "\n",
       "    .dataframe tbody tr th {\n",
       "        vertical-align: top;\n",
       "    }\n",
       "</style>\n",
       "<table border=\"1\" class=\"dataframe\">\n",
       "  <thead>\n",
       "    <tr style=\"text-align: right;\">\n",
       "      <th></th>\n",
       "      <th>Year</th>\n",
       "      <th>Country</th>\n",
       "      <th>ATT</th>\n",
       "      <th>MID</th>\n",
       "      <th>DEF</th>\n",
       "      <th>OVR</th>\n",
       "    </tr>\n",
       "  </thead>\n",
       "  <tbody>\n",
       "    <tr>\n",
       "      <th>0</th>\n",
       "      <td>2018</td>\n",
       "      <td>Spain</td>\n",
       "      <td>84</td>\n",
       "      <td>86</td>\n",
       "      <td>86</td>\n",
       "      <td>86</td>\n",
       "    </tr>\n",
       "    <tr>\n",
       "      <th>1</th>\n",
       "      <td>2018</td>\n",
       "      <td>Brazil</td>\n",
       "      <td>86</td>\n",
       "      <td>83</td>\n",
       "      <td>85</td>\n",
       "      <td>85</td>\n",
       "    </tr>\n",
       "  </tbody>\n",
       "</table>\n",
       "</div>"
      ],
      "text/plain": [
       "   Year Country  ATT  MID  DEF  OVR\n",
       "0  2018   Spain   84   86   86   86\n",
       "1  2018  Brazil   86   83   85   85"
      ]
     },
     "execution_count": 4,
     "metadata": {},
     "output_type": "execute_result"
    }
   ],
   "source": [
    "#Inspect and modify attributes_df\n",
    "attributes_df.rename(columns={\"Name\":\"Country\"},inplace=True)\n",
    "attributes_df.head(2)"
   ]
  },
  {
   "cell_type": "code",
   "execution_count": 5,
   "metadata": {},
   "outputs": [
    {
     "data": {
      "text/html": [
       "<div>\n",
       "<style>\n",
       "    .dataframe thead tr:only-child th {\n",
       "        text-align: right;\n",
       "    }\n",
       "\n",
       "    .dataframe thead th {\n",
       "        text-align: left;\n",
       "    }\n",
       "\n",
       "    .dataframe tbody tr th {\n",
       "        vertical-align: top;\n",
       "    }\n",
       "</style>\n",
       "<table border=\"1\" class=\"dataframe\">\n",
       "  <thead>\n",
       "    <tr style=\"text-align: right;\">\n",
       "      <th></th>\n",
       "      <th>Unnamed: 0</th>\n",
       "      <th>Country</th>\n",
       "      <th>Year</th>\n",
       "      <th>Wins</th>\n",
       "      <th>Losses</th>\n",
       "      <th>Draws</th>\n",
       "      <th>Points_Scored</th>\n",
       "      <th>Points_Against</th>\n",
       "      <th>Ttl_Games</th>\n",
       "      <th>Win_Percent</th>\n",
       "      <th>ATT</th>\n",
       "      <th>MID</th>\n",
       "      <th>DEF</th>\n",
       "      <th>OVR</th>\n",
       "    </tr>\n",
       "  </thead>\n",
       "  <tbody>\n",
       "    <tr>\n",
       "      <th>0</th>\n",
       "      <td>133</td>\n",
       "      <td>Scotland</td>\n",
       "      <td>2005</td>\n",
       "      <td>2</td>\n",
       "      <td>3</td>\n",
       "      <td>4</td>\n",
       "      <td>11</td>\n",
       "      <td>8</td>\n",
       "      <td>9</td>\n",
       "      <td>0.222222</td>\n",
       "      <td>73</td>\n",
       "      <td>76</td>\n",
       "      <td>78</td>\n",
       "      <td>77</td>\n",
       "    </tr>\n",
       "    <tr>\n",
       "      <th>1</th>\n",
       "      <td>280</td>\n",
       "      <td>England</td>\n",
       "      <td>2005</td>\n",
       "      <td>7</td>\n",
       "      <td>3</td>\n",
       "      <td>1</td>\n",
       "      <td>19</td>\n",
       "      <td>11</td>\n",
       "      <td>11</td>\n",
       "      <td>0.636364</td>\n",
       "      <td>89</td>\n",
       "      <td>88</td>\n",
       "      <td>88</td>\n",
       "      <td>88</td>\n",
       "    </tr>\n",
       "  </tbody>\n",
       "</table>\n",
       "</div>"
      ],
      "text/plain": [
       "   Unnamed: 0   Country  Year  Wins  Losses  Draws  Points_Scored  \\\n",
       "0         133  Scotland  2005     2       3      4             11   \n",
       "1         280   England  2005     7       3      1             19   \n",
       "\n",
       "   Points_Against  Ttl_Games  Win_Percent  ATT  MID  DEF  OVR  \n",
       "0               8          9     0.222222   73   76   78   77  \n",
       "1              11         11     0.636364   89   88   88   88  "
      ]
     },
     "execution_count": 5,
     "metadata": {},
     "output_type": "execute_result"
    }
   ],
   "source": [
    "#Merge yeardata_df and attributes_df\n",
    "total_info_df = pd.merge(yeardata_df, attributes_df, on=('Country', 'Year'))\n",
    "total_info_df.head(2)"
   ]
  },
  {
   "cell_type": "code",
   "execution_count": 6,
   "metadata": {
    "collapsed": true
   },
   "outputs": [],
   "source": [
    "# Drop the Unnamed:0 column\n",
    "total_info_df = total_info_df.drop('Unnamed: 0', axis=1)"
   ]
  },
  {
   "cell_type": "code",
   "execution_count": 7,
   "metadata": {
    "collapsed": true
   },
   "outputs": [],
   "source": [
    "#Merge total_info_df with rank_stand_df\n",
    "placement_merge = pd.merge(total_info_df, rank_stand_df, on = (\"Year\", \"Country\"), how='outer')"
   ]
  },
  {
   "cell_type": "code",
   "execution_count": 8,
   "metadata": {},
   "outputs": [
    {
     "data": {
      "text/html": [
       "<div>\n",
       "<style>\n",
       "    .dataframe thead tr:only-child th {\n",
       "        text-align: right;\n",
       "    }\n",
       "\n",
       "    .dataframe thead th {\n",
       "        text-align: left;\n",
       "    }\n",
       "\n",
       "    .dataframe tbody tr th {\n",
       "        vertical-align: top;\n",
       "    }\n",
       "</style>\n",
       "<table border=\"1\" class=\"dataframe\">\n",
       "  <thead>\n",
       "    <tr style=\"text-align: right;\">\n",
       "      <th></th>\n",
       "      <th>Country</th>\n",
       "      <th>Year</th>\n",
       "      <th>Wins</th>\n",
       "      <th>Losses</th>\n",
       "      <th>Draws</th>\n",
       "      <th>Points_Scored</th>\n",
       "      <th>Points_Against</th>\n",
       "      <th>Ttl_Games</th>\n",
       "      <th>Win_Percent</th>\n",
       "      <th>ATT</th>\n",
       "      <th>MID</th>\n",
       "      <th>DEF</th>\n",
       "      <th>OVR</th>\n",
       "      <th>Index</th>\n",
       "      <th>WC_Finals</th>\n",
       "      <th>WC_Qual</th>\n",
       "      <th>WC_Placement</th>\n",
       "      <th>FIFA_Ranking_PreWC</th>\n",
       "    </tr>\n",
       "  </thead>\n",
       "  <tbody>\n",
       "    <tr>\n",
       "      <th>0</th>\n",
       "      <td>Scotland</td>\n",
       "      <td>2005</td>\n",
       "      <td>2.0</td>\n",
       "      <td>3.0</td>\n",
       "      <td>4.0</td>\n",
       "      <td>11.0</td>\n",
       "      <td>8.0</td>\n",
       "      <td>9.0</td>\n",
       "      <td>0.222222</td>\n",
       "      <td>73.0</td>\n",
       "      <td>76.0</td>\n",
       "      <td>78.0</td>\n",
       "      <td>77.0</td>\n",
       "      <td>0.0</td>\n",
       "      <td>0</td>\n",
       "      <td>0</td>\n",
       "      <td>0.0</td>\n",
       "      <td>0.0</td>\n",
       "    </tr>\n",
       "    <tr>\n",
       "      <th>1</th>\n",
       "      <td>England</td>\n",
       "      <td>2005</td>\n",
       "      <td>7.0</td>\n",
       "      <td>3.0</td>\n",
       "      <td>1.0</td>\n",
       "      <td>19.0</td>\n",
       "      <td>11.0</td>\n",
       "      <td>11.0</td>\n",
       "      <td>0.636364</td>\n",
       "      <td>89.0</td>\n",
       "      <td>88.0</td>\n",
       "      <td>88.0</td>\n",
       "      <td>88.0</td>\n",
       "      <td>1.0</td>\n",
       "      <td>0</td>\n",
       "      <td>0</td>\n",
       "      <td>0.0</td>\n",
       "      <td>0.0</td>\n",
       "    </tr>\n",
       "  </tbody>\n",
       "</table>\n",
       "</div>"
      ],
      "text/plain": [
       "    Country  Year  Wins  Losses  Draws  Points_Scored  Points_Against  \\\n",
       "0  Scotland  2005   2.0     3.0    4.0           11.0             8.0   \n",
       "1   England  2005   7.0     3.0    1.0           19.0            11.0   \n",
       "\n",
       "   Ttl_Games  Win_Percent   ATT   MID   DEF   OVR  Index  WC_Finals  WC_Qual  \\\n",
       "0        9.0     0.222222  73.0  76.0  78.0  77.0    0.0          0        0   \n",
       "1       11.0     0.636364  89.0  88.0  88.0  88.0    1.0          0        0   \n",
       "\n",
       "   WC_Placement  FIFA_Ranking_PreWC  \n",
       "0           0.0                 0.0  \n",
       "1           0.0                 0.0  "
      ]
     },
     "execution_count": 8,
     "metadata": {},
     "output_type": "execute_result"
    }
   ],
   "source": [
    "placement_merge = placement_merge.fillna(0)\n",
    "placement_merge.head(2)"
   ]
  },
  {
   "cell_type": "code",
   "execution_count": 9,
   "metadata": {
    "collapsed": true
   },
   "outputs": [],
   "source": [
    "placement_merge.to_csv(\"FIFA_placement_merge_dp.csv\")"
   ]
  },
  {
   "cell_type": "markdown",
   "metadata": {
    "collapsed": true
   },
   "source": [
    "## Multiple Linear Regression"
   ]
  },
  {
   "cell_type": "code",
   "execution_count": 10,
   "metadata": {},
   "outputs": [
    {
     "data": {
      "text/html": [
       "<div>\n",
       "<style>\n",
       "    .dataframe thead tr:only-child th {\n",
       "        text-align: right;\n",
       "    }\n",
       "\n",
       "    .dataframe thead th {\n",
       "        text-align: left;\n",
       "    }\n",
       "\n",
       "    .dataframe tbody tr th {\n",
       "        vertical-align: top;\n",
       "    }\n",
       "</style>\n",
       "<table border=\"1\" class=\"dataframe\">\n",
       "  <thead>\n",
       "    <tr style=\"text-align: right;\">\n",
       "      <th></th>\n",
       "      <th>Country</th>\n",
       "      <th>Year</th>\n",
       "      <th>Wins</th>\n",
       "      <th>Losses</th>\n",
       "      <th>Draws</th>\n",
       "      <th>Points_Scored</th>\n",
       "      <th>Points_Against</th>\n",
       "      <th>Ttl_Games</th>\n",
       "      <th>Win_Percent</th>\n",
       "      <th>ATT</th>\n",
       "      <th>MID</th>\n",
       "      <th>DEF</th>\n",
       "      <th>OVR</th>\n",
       "      <th>Index</th>\n",
       "      <th>WC_Finals</th>\n",
       "      <th>WC_Qual</th>\n",
       "      <th>WC_Placement</th>\n",
       "      <th>FIFA_Ranking_PreWC</th>\n",
       "    </tr>\n",
       "  </thead>\n",
       "  <tbody>\n",
       "    <tr>\n",
       "      <th>221</th>\n",
       "      <td>South Africa</td>\n",
       "      <td>2010</td>\n",
       "      <td>8.0</td>\n",
       "      <td>3.0</td>\n",
       "      <td>6.0</td>\n",
       "      <td>26.0</td>\n",
       "      <td>10.0</td>\n",
       "      <td>17.0</td>\n",
       "      <td>0.470588</td>\n",
       "      <td>72.0</td>\n",
       "      <td>70.0</td>\n",
       "      <td>70.0</td>\n",
       "      <td>72.0</td>\n",
       "      <td>221.0</td>\n",
       "      <td>0</td>\n",
       "      <td>1</td>\n",
       "      <td>20.0</td>\n",
       "      <td>83.0</td>\n",
       "    </tr>\n",
       "    <tr>\n",
       "      <th>223</th>\n",
       "      <td>Slovenia</td>\n",
       "      <td>2010</td>\n",
       "      <td>4.0</td>\n",
       "      <td>5.0</td>\n",
       "      <td>2.0</td>\n",
       "      <td>20.0</td>\n",
       "      <td>10.0</td>\n",
       "      <td>11.0</td>\n",
       "      <td>0.363636</td>\n",
       "      <td>74.0</td>\n",
       "      <td>69.0</td>\n",
       "      <td>68.0</td>\n",
       "      <td>70.0</td>\n",
       "      <td>223.0</td>\n",
       "      <td>0</td>\n",
       "      <td>1</td>\n",
       "      <td>18.0</td>\n",
       "      <td>25.0</td>\n",
       "    </tr>\n",
       "    <tr>\n",
       "      <th>196</th>\n",
       "      <td>France</td>\n",
       "      <td>2010</td>\n",
       "      <td>4.0</td>\n",
       "      <td>7.0</td>\n",
       "      <td>2.0</td>\n",
       "      <td>13.0</td>\n",
       "      <td>13.0</td>\n",
       "      <td>13.0</td>\n",
       "      <td>0.307692</td>\n",
       "      <td>85.0</td>\n",
       "      <td>84.0</td>\n",
       "      <td>83.0</td>\n",
       "      <td>83.0</td>\n",
       "      <td>196.0</td>\n",
       "      <td>0</td>\n",
       "      <td>1</td>\n",
       "      <td>29.0</td>\n",
       "      <td>9.0</td>\n",
       "    </tr>\n",
       "    <tr>\n",
       "      <th>63</th>\n",
       "      <td>Turkey</td>\n",
       "      <td>2006</td>\n",
       "      <td>2.0</td>\n",
       "      <td>5.0</td>\n",
       "      <td>6.0</td>\n",
       "      <td>22.0</td>\n",
       "      <td>12.0</td>\n",
       "      <td>13.0</td>\n",
       "      <td>0.153846</td>\n",
       "      <td>75.0</td>\n",
       "      <td>76.0</td>\n",
       "      <td>70.0</td>\n",
       "      <td>73.0</td>\n",
       "      <td>63.0</td>\n",
       "      <td>0</td>\n",
       "      <td>0</td>\n",
       "      <td>0.0</td>\n",
       "      <td>0.0</td>\n",
       "    </tr>\n",
       "    <tr>\n",
       "      <th>359</th>\n",
       "      <td>Switzerland</td>\n",
       "      <td>2014</td>\n",
       "      <td>6.0</td>\n",
       "      <td>4.0</td>\n",
       "      <td>1.0</td>\n",
       "      <td>20.0</td>\n",
       "      <td>12.0</td>\n",
       "      <td>11.0</td>\n",
       "      <td>0.545455</td>\n",
       "      <td>74.0</td>\n",
       "      <td>76.0</td>\n",
       "      <td>77.0</td>\n",
       "      <td>76.0</td>\n",
       "      <td>359.0</td>\n",
       "      <td>0</td>\n",
       "      <td>1</td>\n",
       "      <td>11.0</td>\n",
       "      <td>6.0</td>\n",
       "    </tr>\n",
       "  </tbody>\n",
       "</table>\n",
       "</div>"
      ],
      "text/plain": [
       "          Country  Year  Wins  Losses  Draws  Points_Scored  Points_Against  \\\n",
       "221  South Africa  2010   8.0     3.0    6.0           26.0            10.0   \n",
       "223      Slovenia  2010   4.0     5.0    2.0           20.0            10.0   \n",
       "196        France  2010   4.0     7.0    2.0           13.0            13.0   \n",
       "63         Turkey  2006   2.0     5.0    6.0           22.0            12.0   \n",
       "359   Switzerland  2014   6.0     4.0    1.0           20.0            12.0   \n",
       "\n",
       "     Ttl_Games  Win_Percent   ATT   MID   DEF   OVR  Index  WC_Finals  \\\n",
       "221       17.0     0.470588  72.0  70.0  70.0  72.0  221.0          0   \n",
       "223       11.0     0.363636  74.0  69.0  68.0  70.0  223.0          0   \n",
       "196       13.0     0.307692  85.0  84.0  83.0  83.0  196.0          0   \n",
       "63        13.0     0.153846  75.0  76.0  70.0  73.0   63.0          0   \n",
       "359       11.0     0.545455  74.0  76.0  77.0  76.0  359.0          0   \n",
       "\n",
       "     WC_Qual  WC_Placement  FIFA_Ranking_PreWC  \n",
       "221        1          20.0                83.0  \n",
       "223        1          18.0                25.0  \n",
       "196        1          29.0                 9.0  \n",
       "63         0           0.0                 0.0  \n",
       "359        1          11.0                 6.0  "
      ]
     },
     "execution_count": 10,
     "metadata": {},
     "output_type": "execute_result"
    }
   ],
   "source": [
    "#Filter the placement_merge dataframe to only the World Cup Years (2006, 2010, 2014)\n",
    "\n",
    "placement_WCyears = placement_merge.loc[placement_merge['Year'].isin([2006,2010,2014])]\n",
    "placement_WCyears.sample(5)"
   ]
  },
  {
   "cell_type": "code",
   "execution_count": 11,
   "metadata": {},
   "outputs": [
    {
     "name": "stdout",
     "output_type": "stream",
     "text": [
      "(157, 5) (157, 1)\n"
     ]
    }
   ],
   "source": [
    "# Assign X (data) and y (target)\n",
    "\n",
    "X = placement_WCyears[[\"Win_Percent\",\"ATT\",\"MID\",\"DEF\",\"FIFA_Ranking_PreWC\"]]\n",
    "y = placement_WCyears[\"WC_Placement\"].values.reshape(-1, 1)\n",
    "print(X.shape, y.shape)"
   ]
  },
  {
   "cell_type": "markdown",
   "metadata": {},
   "source": [
    "\"Wins\" or \"Points Scored\" is not used in the model because it is dependent on the Total Games.  The more team games played, the higher the total points scored.  A team is not necessarily better because they played more games.  To normalize the varying number of games played, we used the percentage of games won in the model."
   ]
  },
  {
   "cell_type": "markdown",
   "metadata": {},
   "source": [
    "OVR is not included in the model is because OVR is an overal composite score based on the other three stats (ATT, MID, and DEF) which was are including in the model.  "
   ]
  },
  {
   "cell_type": "code",
   "execution_count": 12,
   "metadata": {
    "collapsed": true
   },
   "outputs": [],
   "source": [
    "# Split the data into training and testing\n",
    "\n",
    "from sklearn.model_selection import train_test_split\n",
    "X_train, X_test, y_train, y_test = train_test_split(X, y, random_state=42)"
   ]
  },
  {
   "cell_type": "code",
   "execution_count": 13,
   "metadata": {
    "collapsed": true
   },
   "outputs": [],
   "source": [
    "# Create a StandardScater model and fit it to the training data\n",
    "\n",
    "from sklearn.preprocessing import StandardScaler\n",
    "X_scaler = StandardScaler().fit(X_train)\n",
    "y_scaler = StandardScaler().fit(y_train)"
   ]
  },
  {
   "cell_type": "code",
   "execution_count": 14,
   "metadata": {
    "collapsed": true
   },
   "outputs": [],
   "source": [
    "# Transform the training and testing data using the X_scaler and y_scaler models\n",
    "\n",
    "X_train_scaled = X_scaler.transform(X_train)\n",
    "X_test_scaled = X_scaler.transform(X_test)\n",
    "y_train_scaled = y_scaler.transform(y_train)\n",
    "y_test_scaled = y_scaler.transform(y_test)"
   ]
  },
  {
   "cell_type": "code",
   "execution_count": 15,
   "metadata": {},
   "outputs": [
    {
     "data": {
      "text/plain": [
       "LinearRegression(copy_X=True, fit_intercept=True, n_jobs=1, normalize=False)"
      ]
     },
     "execution_count": 15,
     "metadata": {},
     "output_type": "execute_result"
    }
   ],
   "source": [
    "# Create a LinearRegression model and fit it to the scaled training data\n",
    "\n",
    "from sklearn.linear_model import LinearRegression\n",
    "model = LinearRegression()\n",
    "model.fit(X_train_scaled, y_train_scaled)"
   ]
  },
  {
   "cell_type": "markdown",
   "metadata": {},
   "source": [
    "## Make predictions using the X_test_scaled data"
   ]
  },
  {
   "cell_type": "code",
   "execution_count": 16,
   "metadata": {
    "collapsed": true
   },
   "outputs": [],
   "source": [
    "predictions = model.predict(X_test_scaled)"
   ]
  },
  {
   "cell_type": "markdown",
   "metadata": {},
   "source": [
    "## Plot y_test_scaled vs. predictions"
   ]
  },
  {
   "cell_type": "code",
   "execution_count": 17,
   "metadata": {},
   "outputs": [
    {
     "data": {
      "image/png": "[encoded data removed]",
      "text/plain": [
       "<matplotlib.figure.Figure at 0xc7d7048>"
      ]
     },
     "metadata": {},
     "output_type": "display_data"
    }
   ],
   "source": [
    "plt.scatter(y_test_scaled, predictions, c='blue')\n",
    "plt.xlabel('y_test_scaled')\n",
    "plt.ylabel('Predicted Value')\n",
    "plt.plot(y_test_scaled, y_test_scaled, c='red')\n",
    "plt.savefig('predicted_test_multivar.png')"
   ]
  },
  {
   "cell_type": "markdown",
   "metadata": {},
   "source": [
    "There is quite a variation in how the y_test_scaled approximates the predicted value. If the model was perfect, the y_test_scaled value = predicted value and result i the red line."
   ]
  },
  {
   "cell_type": "code",
   "execution_count": 18,
   "metadata": {},
   "outputs": [
    {
     "name": "stdout",
     "output_type": "stream",
     "text": [
      "MSE: 0.5259877146958498, R2: 0.35260488568785187\n"
     ]
    }
   ],
   "source": [
    "# Used X_test_scaled, y_test_scaled, and model.predict(X_test_scaled) to calculate MSE and R2\n",
    "\n",
    "from sklearn.metrics import mean_squared_error\n",
    "MSE = mean_squared_error(y_test_scaled, predictions)\n",
    "r2 = model.score(X_test_scaled, y_test_scaled)\n",
    "print(f\"MSE: {MSE}, R2: {r2}\")"
   ]
  },
  {
   "cell_type": "markdown",
   "metadata": {},
   "source": [
    "A \"good\" MSE score will be close to zero while a \"good\" [R2 Score](https://en.wikipedia.org/wiki/Coefficient_of_determination) will be close to 1."
   ]
  },
  {
   "cell_type": "markdown",
   "metadata": {},
   "source": [
    "# Plot the Residuals\n",
    "Residuals are the difference between the true values of y and the predicted values of y.\n"
   ]
  },
  {
   "cell_type": "code",
   "execution_count": 19,
   "metadata": {},
   "outputs": [
    {
     "data": {
      "image/png": "[encoded data removed]",
      "text/plain": [
       "<matplotlib.figure.Figure at 0xcc42b70>"
      ]
     },
     "metadata": {},
     "output_type": "display_data"
    }
   ],
   "source": [
    "predictions = model.predict(X)\n",
    "plt.scatter(predictions, predictions - y)\n",
    "plt.xlabel('Predicted Value')\n",
    "plt.ylabel('Residuals')\n",
    "plt.hlines(y=0, xmin=predictions.min(), xmax=predictions.max())\n",
    "plt.savefig('predicted_residuals_multivar.png')"
   ]
  },
  {
   "cell_type": "markdown",
   "metadata": {},
   "source": [
    "There seems to be a relationship between the predicted values and the residuals.  This means that our model is not very good. A good model would have randomly distributed residual values across predicted values.  It is likely that our model is missing one or more important variables."
   ]
  },
  {
   "cell_type": "markdown",
   "metadata": {},
   "source": [
    " ## World Cup Placement and Individual Variables"
   ]
  },
  {
   "cell_type": "markdown",
   "metadata": {},
   "source": [
    "Since our model with multiple variables is not a great model. Let's inspect each variable's correlation with the outcome."
   ]
  },
  {
   "cell_type": "code",
   "execution_count": 20,
   "metadata": {
    "collapsed": true
   },
   "outputs": [],
   "source": [
    "# Use the linregress fuction from scipy stats library\n",
    "from scipy import stats"
   ]
  },
  {
   "cell_type": "markdown",
   "metadata": {},
   "source": [
    "#### Win_Percent during the regular season of the World Cup year"
   ]
  },
  {
   "cell_type": "code",
   "execution_count": 21,
   "metadata": {},
   "outputs": [
    {
     "name": "stdout",
     "output_type": "stream",
     "text": [
      "r-squared: 0.144883714114\n"
     ]
    },
    {
     "data": {
      "image/png": "[encoded data removed]",
      "text/plain": [
       "<matplotlib.figure.Figure at 0xcc3ce48>"
      ]
     },
     "metadata": {},
     "output_type": "display_data"
    }
   ],
   "source": [
    "x = placement_WCyears['Win_Percent']\n",
    "y = placement_WCyears['WC_Placement']\n",
    "slope, intercept, r_value, p_value, std_err = stats.linregress(x, y)\n",
    "print(\"r-squared:\", r_value**2)\n",
    "\n",
    "plt.plot(x, y, 'o', label='original data')\n",
    "# plt.plot(x, intercept + slope*x, 'r', label='fitted line')\n",
    "plt.xlabel('Win_Percent')\n",
    "plt.ylabel('World Cup Placement')\n",
    "plt.legend()\n",
    "plt.savefig('WCplacement_win_percent.png')"
   ]
  },
  {
   "cell_type": "markdown",
   "metadata": {},
   "source": [
    "#### FIFA Statistic: ATT (Attack)"
   ]
  },
  {
   "cell_type": "code",
   "execution_count": 22,
   "metadata": {},
   "outputs": [
    {
     "name": "stdout",
     "output_type": "stream",
     "text": [
      "r-squared: 0.251945200659\n"
     ]
    },
    {
     "data": {
      "image/png": "[encoded data removed]",
      "text/plain": [
       "<matplotlib.figure.Figure at 0xcae5f60>"
      ]
     },
     "metadata": {},
     "output_type": "display_data"
    }
   ],
   "source": [
    "x = placement_WCyears['ATT']\n",
    "y = placement_WCyears['WC_Placement']\n",
    "slope, intercept, r_value, p_value, std_err = stats.linregress(x, y)\n",
    "print(\"r-squared:\", r_value**2)\n",
    "\n",
    "plt.plot(x, y, 'o', label='actual data')\n",
    "# plt.plot(x, intercept + slope*x, 'r', label='fitted line')\n",
    "plt.xlabel('FIFA Statistic: ATT (attack)')\n",
    "plt.ylabel('World Cup Placement')\n",
    "plt.legend()\n",
    "plt.savefig('WCplacement_ATT.png')"
   ]
  },
  {
   "cell_type": "markdown",
   "metadata": {},
   "source": [
    "#### FIFA Statistic: MID (Midfield)"
   ]
  },
  {
   "cell_type": "code",
   "execution_count": 23,
   "metadata": {
    "scrolled": true
   },
   "outputs": [
    {
     "name": "stdout",
     "output_type": "stream",
     "text": [
      "r-squared: 0.251450289474\n"
     ]
    },
    {
     "data": {
      "image/png": "[encoded data removed]",
      "text/plain": [
       "<matplotlib.figure.Figure at 0x74c6470>"
      ]
     },
     "metadata": {},
     "output_type": "display_data"
    }
   ],
   "source": [
    "x = placement_WCyears['MID']\n",
    "y = placement_WCyears['WC_Placement']\n",
    "slope, intercept, r_value, p_value, std_err = stats.linregress(x, y)\n",
    "print(\"r-squared:\", r_value**2)\n",
    "\n",
    "plt.plot(x, y, 'o', label='actual data')\n",
    "# plt.plot(x, intercept + slope*x, 'r', label='fitted line')\n",
    "plt.xlabel('FIFA Statistic: MID (midfield)')\n",
    "plt.ylabel('World Cup Placement')\n",
    "plt.legend()\n",
    "plt.savefig('WCplacement_MID.png')"
   ]
  },
  {
   "cell_type": "markdown",
   "metadata": {},
   "source": [
    "#### FIFA Statistic: DEF(Defense)"
   ]
  },
  {
   "cell_type": "code",
   "execution_count": 24,
   "metadata": {},
   "outputs": [
    {
     "name": "stdout",
     "output_type": "stream",
     "text": [
      "r-squared: 0.251601531358\n"
     ]
    },
    {
     "data": {
      "image/png": "[encoded data removed]",
      "text/plain": [
       "<matplotlib.figure.Figure at 0xd0ec3c8>"
      ]
     },
     "metadata": {},
     "output_type": "display_data"
    }
   ],
   "source": [
    "x = placement_WCyears['DEF']\n",
    "y = placement_WCyears['WC_Placement']\n",
    "slope, intercept, r_value, p_value, std_err = stats.linregress(x, y)\n",
    "print(\"r-squared:\", r_value**2)\n",
    "\n",
    "plt.plot(x, y, 'o', label='actual data')\n",
    "# plt.plot(x, intercept + slope*x, 'r', label='fitted line')\n",
    "plt.xlabel('FIFA statistic: DEF (defense)')\n",
    "plt.ylabel('World Cup Placement')\n",
    "plt.legend()\n",
    "plt.savefig('WCplacement_DEF.png')"
   ]
  },
  {
   "cell_type": "markdown",
   "metadata": {},
   "source": [
    "#### FIFA Statistic: OVR (Overall)"
   ]
  },
  {
   "cell_type": "code",
   "execution_count": 25,
   "metadata": {},
   "outputs": [
    {
     "name": "stdout",
     "output_type": "stream",
     "text": [
      "r-squared: 0.25495183919\n"
     ]
    },
    {
     "data": {
      "image/png": "[encoded data removed]",
      "text/plain": [
       "<matplotlib.figure.Figure at 0xa8b37f0>"
      ]
     },
     "metadata": {},
     "output_type": "display_data"
    }
   ],
   "source": [
    "x = placement_WCyears['OVR']\n",
    "y = placement_WCyears['WC_Placement']\n",
    "slope, intercept, r_value, p_value, std_err = stats.linregress(x, y)\n",
    "print(\"r-squared:\", r_value**2)\n",
    "\n",
    "plt.plot(x, y, 'o', label='actual data')\n",
    "# plt.plot(x, intercept + slope*x, 'r', label='fitted line')\n",
    "plt.xlabel('FIFA statistic: OVR (overall)')\n",
    "plt.ylabel('World Cup Placement')\n",
    "plt.legend()\n",
    "plt.savefig('WCplacement_OVR.png')"
   ]
  },
  {
   "cell_type": "markdown",
   "metadata": {},
   "source": [
    "#### FIFA Ranking Pre World Cup"
   ]
  },
  {
   "cell_type": "code",
   "execution_count": 26,
   "metadata": {},
   "outputs": [
    {
     "name": "stdout",
     "output_type": "stream",
     "text": [
      "r-squared: 0.503636743353\n"
     ]
    },
    {
     "data": {
      "image/png": "[encoded data removed]",
      "text/plain": [
       "<matplotlib.figure.Figure at 0xd9ce8d0>"
      ]
     },
     "metadata": {},
     "output_type": "display_data"
    }
   ],
   "source": [
    "x = placement_WCyears['FIFA_Ranking_PreWC']\n",
    "y = placement_WCyears['WC_Placement']\n",
    "slope, intercept, r_value, p_value, std_err = stats.linregress(x, y)\n",
    "print(\"r-squared:\", r_value**2)\n",
    "\n",
    "plt.plot(x, y, 'o', label='actual data')\n",
    "plt.plot(x, intercept + slope*x, 'r', label='fitted line')\n",
    "plt.xlabel('FIFA Ranking Pre World Cup')\n",
    "plt.ylabel('World Cup Placement')\n",
    "plt.legend()\n",
    "plt.savefig('WCplacement_FIFArank.png')"
   ]
  },
  {
   "cell_type": "markdown",
   "metadata": {},
   "source": [
    "Interstingly, there seems to be no clear correlation between the FIFA statistics (ATT, MID, DEF, OVR) and World Cup placement.  Neither is there a clear correlation between the percentage of wins that a national team has during the regular season.  There dose seem to be some weak or moderate relationship (Rsquared = 0.5) between FIFA Ranking going into the World Cup and World Cup placement.  Let's try testing our model on just this variable"
   ]
  },
  {
   "cell_type": "markdown",
   "metadata": {},
   "source": [
    "## World Cup Placement and FIFA Ranking: Testing"
   ]
  },
  {
   "cell_type": "code",
   "execution_count": 27,
   "metadata": {},
   "outputs": [
    {
     "name": "stdout",
     "output_type": "stream",
     "text": [
      "(157, 1) (157, 1)\n"
     ]
    }
   ],
   "source": [
    "# Assign X (data) and y (target)\n",
    "\n",
    "X = placement_WCyears[[\"FIFA_Ranking_PreWC\"]]\n",
    "y = placement_WCyears[\"WC_Placement\"].values.reshape(-1, 1)\n",
    "print(X.shape, y.shape)"
   ]
  },
  {
   "cell_type": "code",
   "execution_count": 28,
   "metadata": {
    "collapsed": true
   },
   "outputs": [],
   "source": [
    "# Split the data into training and testing\n",
    "\n",
    "from sklearn.model_selection import train_test_split\n",
    "X_train, X_test, y_train, y_test = train_test_split(X, y, random_state=42)"
   ]
  },
  {
   "cell_type": "code",
   "execution_count": 29,
   "metadata": {
    "collapsed": true
   },
   "outputs": [],
   "source": [
    "# Create a StandardScater model and fit it to the training data\n",
    "\n",
    "from sklearn.preprocessing import StandardScaler\n",
    "X_scaler = StandardScaler().fit(X_train)\n",
    "y_scaler = StandardScaler().fit(y_train)"
   ]
  },
  {
   "cell_type": "code",
   "execution_count": 30,
   "metadata": {
    "collapsed": true
   },
   "outputs": [],
   "source": [
    "# Transform the training and testing data using the X_scaler and y_scaler models\n",
    "\n",
    "X_train_scaled = X_scaler.transform(X_train)\n",
    "X_test_scaled = X_scaler.transform(X_test)\n",
    "y_train_scaled = y_scaler.transform(y_train)\n",
    "y_test_scaled = y_scaler.transform(y_test)"
   ]
  },
  {
   "cell_type": "code",
   "execution_count": 31,
   "metadata": {},
   "outputs": [
    {
     "data": {
      "text/plain": [
       "LinearRegression(copy_X=True, fit_intercept=True, n_jobs=1, normalize=False)"
      ]
     },
     "execution_count": 31,
     "metadata": {},
     "output_type": "execute_result"
    }
   ],
   "source": [
    "# Create a LinearRegression model and fit it to the scaled training data\n",
    "\n",
    "from sklearn.linear_model import LinearRegression\n",
    "model = LinearRegression()\n",
    "model.fit(X_train_scaled, y_train_scaled)"
   ]
  },
  {
   "cell_type": "code",
   "execution_count": 32,
   "metadata": {
    "collapsed": true
   },
   "outputs": [],
   "source": [
    "predictions = model.predict(X_test_scaled)"
   ]
  },
  {
   "cell_type": "code",
   "execution_count": 33,
   "metadata": {},
   "outputs": [
    {
     "data": {
      "image/png": "[encoded data removed]",
      "text/plain": [
       "<matplotlib.figure.Figure at 0xd1182e8>"
      ]
     },
     "metadata": {},
     "output_type": "display_data"
    }
   ],
   "source": [
    "plt.scatter(y_test_scaled, predictions, c='blue')\n",
    "plt.xlabel('y_test_scaled')\n",
    "plt.ylabel('Predicted value')\n",
    "plt.plot(y_test_scaled, y_test_scaled, c='red')\n",
    "plt.savefig('predicted_test_FIFArank.png')"
   ]
  },
  {
   "cell_type": "code",
   "execution_count": 34,
   "metadata": {},
   "outputs": [
    {
     "name": "stdout",
     "output_type": "stream",
     "text": [
      "MSE: 0.5179213680787325, R2: 0.36253308979674403\n"
     ]
    }
   ],
   "source": [
    "# Used X_test_scaled, y_test_scaled, and model.predict(X_test_scaled) to calculate MSE and R2\n",
    "\n",
    "from sklearn.metrics import mean_squared_error\n",
    "MSE = mean_squared_error(y_test_scaled, predictions)\n",
    "r2 = model.score(X_test_scaled, y_test_scaled)\n",
    "print(f\"MSE: {MSE}, R2: {r2}\")"
   ]
  },
  {
   "cell_type": "code",
   "execution_count": 35,
   "metadata": {},
   "outputs": [
    {
     "data": {
      "image/png": "[encoded data removed]",
      "text/plain": [
       "<matplotlib.figure.Figure at 0xda8a748>"
      ]
     },
     "metadata": {},
     "output_type": "display_data"
    }
   ],
   "source": [
    "predictions = model.predict(X)\n",
    "plt.scatter(predictions, predictions - y)\n",
    "plt.xlabel('Predicted Value')\n",
    "plt.ylabel('Residuals')\n",
    "plt.hlines(y=0, xmin=predictions.min(), xmax=predictions.max())\n",
    "plt.savefig('predicted_residuals_FIFArank.png')"
   ]
  },
  {
   "cell_type": "markdown",
   "metadata": {},
   "source": [
    "This is similar pattern as the model with multiple variables. So our model of with just this one FIFA ranking variable is not perfect. There must be other variables at play."
   ]
  }
 ],
 "metadata": {
  "kernelspec": {
   "display_name": "Python [conda env:PythonData]",
   "language": "python",
   "name": "conda-env-PythonData-py"
  },
  "language_info": {
   "codemirror_mode": {
    "name": "ipython",
    "version": 3
   },
   "file_extension": ".py",
   "mimetype": "text/x-python",
   "name": "python",
   "nbconvert_exporter": "python",
   "pygments_lexer": "ipython3",
   "version": "3.6.3"
  }
 },
 "nbformat": 4,
 "nbformat_minor": 2
}
